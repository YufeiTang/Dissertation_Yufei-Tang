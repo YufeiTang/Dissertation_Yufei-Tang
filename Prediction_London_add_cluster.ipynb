{
 "cells": [
  {
   "cell_type": "code",
   "execution_count": 1,
   "metadata": {},
   "outputs": [],
   "source": [
    "#import necessary libraries\n",
    "import csv\n",
    "import pandas as pd\n",
    "import numpy as np\n",
    "#import pandas_profiling as pp\n",
    "#from pandas_profiling import ProfileReport\n",
    "from sklearn.model_selection import TimeSeriesSplit\n",
    "\n",
    "import warnings\n",
    "warnings.filterwarnings('ignore')\n",
    "\n",
    "import matplotlib.pyplot as plt\n",
    "import numpy as np\n",
    "import seaborn as sns\n",
    "%matplotlib inline\n",
    "\n",
    "from sklearn.model_selection import train_test_split\n",
    "from sklearn.linear_model import LogisticRegression\n",
    "from sklearn.metrics import accuracy_score\n",
    "from sklearn.metrics import classification_report\n",
    "from sklearn.tree import DecisionTreeClassifier\n",
    "from sklearn.ensemble import RandomForestClassifier\n",
    "from sklearn.svm import SVC, LinearSVC\n",
    "from sklearn.metrics import log_loss\n",
    "from sklearn.feature_selection import SelectKBest, chi2, f_regression, f_classif\n",
    "from sklearn.model_selection import train_test_split\n",
    "from sklearn.neighbors import KNeighborsClassifier\n",
    "from sklearn.ensemble import StackingClassifier\n",
    "from sklearn import metrics\n",
    "from sklearn.decomposition import PCA\n",
    "from imblearn.over_sampling import SMOTE\n",
    "\n",
    "from numpy import mean\n",
    "from numpy import std\n",
    "from sklearn.model_selection import cross_val_score\n",
    "from sklearn.model_selection import RepeatedStratifiedKFold\n",
    "from sklearn.neighbors import KNeighborsClassifier\n",
    "from matplotlib import pyplot\n",
    "\n",
    "\n",
    "from sklearn.metrics import confusion_matrix"
   ]
  },
  {
   "cell_type": "code",
   "execution_count": 2,
   "metadata": {},
   "outputs": [
    {
     "name": "stdout",
     "output_type": "stream",
     "text": [
      "<class 'pandas.core.frame.DataFrame'>\n",
      "RangeIndex: 106938 entries, 0 to 106937\n",
      "Data columns (total 91 columns):\n",
      " #   Column                                       Non-Null Count   Dtype  \n",
      "---  ------                                       --------------   -----  \n",
      " 0   Unnamed: 0                                   106938 non-null  int64  \n",
      " 1   index                                        106938 non-null  int64  \n",
      " 2   geometry                                     106938 non-null  object \n",
      " 3   index_right                                  106938 non-null  int64  \n",
      " 4   NAME                                         106938 non-null  object \n",
      " 5   GSS_CODE                                     106938 non-null  object \n",
      " 6   HECTARES                                     106938 non-null  float64\n",
      " 7   NONLD_AREA                                   106938 non-null  float64\n",
      " 8   LB_GSS_CD                                    106938 non-null  object \n",
      " 9   BOROUGH                                      106938 non-null  object \n",
      " 10  POLY_ID                                      106938 non-null  int64  \n",
      " 11  accident_index                               106938 non-null  object \n",
      " 12  accident_year                                106938 non-null  int64  \n",
      " 13  accident_reference                           106938 non-null  object \n",
      " 14  location_easting_osgr                        106938 non-null  float64\n",
      " 15  location_northing_osgr                       106938 non-null  float64\n",
      " 16  longitude                                    106938 non-null  float64\n",
      " 17  latitude                                     106938 non-null  float64\n",
      " 18  police_force                                 106938 non-null  int64  \n",
      " 19  accident_severity                            106938 non-null  object \n",
      " 20  number_of_vehicles                           106938 non-null  int64  \n",
      " 21  number_of_casualties                         106938 non-null  int64  \n",
      " 22  date                                         106938 non-null  object \n",
      " 23  day_of_week                                  106938 non-null  object \n",
      " 24  local_authority_district                     106938 non-null  int64  \n",
      " 25  local_authority_ons_district                 106938 non-null  object \n",
      " 26  local_authority_highway                      106938 non-null  object \n",
      " 27  first_road_class                             106938 non-null  object \n",
      " 28  first_road_number                            106938 non-null  int64  \n",
      " 29  road_type                                    106938 non-null  object \n",
      " 30  speed_limit                                  106938 non-null  object \n",
      " 31  junction_detail                              106938 non-null  object \n",
      " 32  junction_control                             106938 non-null  object \n",
      " 33  second_road_class                            106938 non-null  object \n",
      " 34  second_road_number                           106938 non-null  int64  \n",
      " 35  pedestrian_crossing_human_control            106938 non-null  int64  \n",
      " 36  pedestrian_crossing_physical_facilities      106938 non-null  int64  \n",
      " 37  light_conditions                             106938 non-null  object \n",
      " 38  weather_conditions                           106938 non-null  object \n",
      " 39  road_surface_conditions                      106938 non-null  object \n",
      " 40  special_conditions_at_site                   106938 non-null  int64  \n",
      " 41  carriageway_hazards                          106938 non-null  int64  \n",
      " 42  urban_or_rural_area                          106938 non-null  object \n",
      " 43  did_police_officer_attend_scene_of_accident  106938 non-null  int64  \n",
      " 44  trunk_road_flag                              106938 non-null  int64  \n",
      " 45  lsoa_of_accident_location                    106938 non-null  object \n",
      " 46  converted_time                               106938 non-null  int64  \n",
      " 47  accident_year_x                              106938 non-null  float64\n",
      " 48  accident_reference_x                         106938 non-null  object \n",
      " 49  vehicle_reference_x                          106938 non-null  float64\n",
      " 50  casualty_reference                           106938 non-null  float64\n",
      " 51  casualty_class                               106938 non-null  object \n",
      " 52  sex_of_casualty                              106938 non-null  float64\n",
      " 53  age_of_casualty                              106938 non-null  float64\n",
      " 54  age_band_of_casualty                         106938 non-null  float64\n",
      " 55  casualty_severity                            106938 non-null  object \n",
      " 56  pedestrian_location                          106938 non-null  float64\n",
      " 57  pedestrian_movement                          106938 non-null  float64\n",
      " 58  car_passenger                                106938 non-null  float64\n",
      " 59  bus_or_coach_passenger                       106938 non-null  float64\n",
      " 60  pedestrian_road_maintenance_worker           106938 non-null  float64\n",
      " 61  casualty_type                                106938 non-null  float64\n",
      " 62  casualty_home_area_type                      106938 non-null  float64\n",
      " 63  casualty_imd_decile                          106938 non-null  float64\n",
      " 64  accident_year_y                              106938 non-null  float64\n",
      " 65  accident_reference_y                         106938 non-null  object \n",
      " 66  vehicle_reference_y                          106938 non-null  float64\n",
      " 67  vehicle_type                                 106938 non-null  object \n",
      " 68  towing_and_articulation                      106938 non-null  float64\n",
      " 69  vehicle_manoeuvre                            106938 non-null  float64\n",
      " 70  vehicle_direction_from                       106938 non-null  float64\n",
      " 71  vehicle_direction_to                         106938 non-null  float64\n",
      " 72  vehicle_location_restricted_lane             106938 non-null  float64\n",
      " 73  junction_location                            106938 non-null  float64\n",
      " 74  skidding_and_overturning                     106938 non-null  float64\n",
      " 75  hit_object_in_carriageway                    106938 non-null  float64\n",
      " 76  vehicle_leaving_carriageway                  106938 non-null  float64\n",
      " 77  hit_object_off_carriageway                   106938 non-null  float64\n",
      " 78  first_point_of_impact                        106938 non-null  float64\n",
      " 79  vehicle_left_hand_drive                      106938 non-null  object \n",
      " 80  journey_purpose_of_driver                    106938 non-null  object \n",
      " 81  sex_of_driver                                106938 non-null  float64\n",
      " 82  age_of_driver                                106938 non-null  float64\n",
      " 83  age_band_of_driver                           106938 non-null  float64\n",
      " 84  engine_capacity_cc                           106938 non-null  float64\n",
      " 85  propulsion_code                              106938 non-null  object \n",
      " 86  age_of_vehicle                               106938 non-null  float64\n",
      " 87  generic_make_model                           106938 non-null  object \n",
      " 88  driver_imd_decile                            106938 non-null  float64\n",
      " 89  driver_home_area_type                        106938 non-null  float64\n",
      " 90  cluster                                      106938 non-null  int64  \n",
      "dtypes: float64(40), int64(19), object(32)\n",
      "memory usage: 74.2+ MB\n"
     ]
    }
   ],
   "source": [
    "#read the cleaned dataset for London\n",
    "df = pd.read_csv('London_accidents_data_with_cluster.csv')    \n",
    "df.info()"
   ]
  },
  {
   "cell_type": "code",
   "execution_count": 3,
   "metadata": {},
   "outputs": [],
   "source": [
    "#copy a new dataframe for further model testing\n",
    "df1=df.copy()"
   ]
  },
  {
   "cell_type": "code",
   "execution_count": 4,
   "metadata": {},
   "outputs": [],
   "source": [
    "# Dropping unnecessary columns\n",
    "df1.drop(['number_of_vehicles', 'number_of_casualties', \n",
    "                'date', 'special_conditions_at_site', \n",
    "                'lsoa_of_accident_location','converted_time'], \n",
    "               axis=1, inplace=True)"
   ]
  },
  {
   "cell_type": "code",
   "execution_count": 5,
   "metadata": {},
   "outputs": [
    {
     "data": {
      "text/plain": [
       "Index(['Unnamed: 0', 'index', 'geometry', 'index_right', 'NAME', 'GSS_CODE',\n",
       "       'HECTARES', 'NONLD_AREA', 'LB_GSS_CD', 'BOROUGH', 'POLY_ID',\n",
       "       'accident_index', 'accident_year', 'accident_reference',\n",
       "       'location_easting_osgr', 'location_northing_osgr', 'longitude',\n",
       "       'latitude', 'police_force', 'accident_severity', 'day_of_week',\n",
       "       'local_authority_district', 'local_authority_ons_district',\n",
       "       'local_authority_highway', 'first_road_class', 'first_road_number',\n",
       "       'road_type', 'speed_limit', 'junction_detail', 'junction_control',\n",
       "       'second_road_class', 'second_road_number',\n",
       "       'pedestrian_crossing_human_control',\n",
       "       'pedestrian_crossing_physical_facilities', 'light_conditions',\n",
       "       'weather_conditions', 'road_surface_conditions', 'carriageway_hazards',\n",
       "       'urban_or_rural_area', 'did_police_officer_attend_scene_of_accident',\n",
       "       'trunk_road_flag', 'accident_year_x', 'accident_reference_x',\n",
       "       'vehicle_reference_x', 'casualty_reference', 'casualty_class',\n",
       "       'sex_of_casualty', 'age_of_casualty', 'age_band_of_casualty',\n",
       "       'casualty_severity', 'pedestrian_location', 'pedestrian_movement',\n",
       "       'car_passenger', 'bus_or_coach_passenger',\n",
       "       'pedestrian_road_maintenance_worker', 'casualty_type',\n",
       "       'casualty_home_area_type', 'casualty_imd_decile', 'accident_year_y',\n",
       "       'accident_reference_y', 'vehicle_reference_y', 'vehicle_type',\n",
       "       'towing_and_articulation', 'vehicle_manoeuvre',\n",
       "       'vehicle_direction_from', 'vehicle_direction_to',\n",
       "       'vehicle_location_restricted_lane', 'junction_location',\n",
       "       'skidding_and_overturning', 'hit_object_in_carriageway',\n",
       "       'vehicle_leaving_carriageway', 'hit_object_off_carriageway',\n",
       "       'first_point_of_impact', 'vehicle_left_hand_drive',\n",
       "       'journey_purpose_of_driver', 'sex_of_driver', 'age_of_driver',\n",
       "       'age_band_of_driver', 'engine_capacity_cc', 'propulsion_code',\n",
       "       'age_of_vehicle', 'generic_make_model', 'driver_imd_decile',\n",
       "       'driver_home_area_type', 'cluster'],\n",
       "      dtype='object')"
      ]
     },
     "execution_count": 5,
     "metadata": {},
     "output_type": "execute_result"
    }
   ],
   "source": [
    "df1.columns"
   ]
  },
  {
   "cell_type": "code",
   "execution_count": 6,
   "metadata": {},
   "outputs": [],
   "source": [
    "#selecting predictors from the above features\n",
    "df1 = df1[['accident_index','longitude', 'latitude','did_police_officer_attend_scene_of_accident' , 'age_of_driver' ,'vehicle_type', 'age_of_vehicle',\n",
    "                             'engine_capacity_cc','day_of_week' , 'road_type', 'weather_conditions', 'journey_purpose_of_driver',\n",
    "                             'sex_of_driver' ,'speed_limit','pedestrian_crossing_physical_facilities','junction_control','road_type','light_conditions','accident_severity','cluster']]"
   ]
  },
  {
   "cell_type": "code",
   "execution_count": 7,
   "metadata": {},
   "outputs": [],
   "source": [
    "df1 = df1.set_index('accident_index')"
   ]
  },
  {
   "cell_type": "code",
   "execution_count": 8,
   "metadata": {},
   "outputs": [],
   "source": [
    "df2 =df1.apply(lambda x : x.astype('category'))"
   ]
  },
  {
   "cell_type": "code",
   "execution_count": 9,
   "metadata": {},
   "outputs": [],
   "source": [
    "df2 =df2.apply(lambda x: x.cat.codes)"
   ]
  },
  {
   "cell_type": "code",
   "execution_count": 10,
   "metadata": {},
   "outputs": [
    {
     "data": {
      "text/plain": [
       "Index(['longitude', 'latitude', 'did_police_officer_attend_scene_of_accident',\n",
       "       'age_of_driver', 'vehicle_type', 'age_of_vehicle', 'engine_capacity_cc',\n",
       "       'day_of_week', 'road_type', 'weather_conditions',\n",
       "       'journey_purpose_of_driver', 'sex_of_driver', 'speed_limit',\n",
       "       'pedestrian_crossing_physical_facilities', 'junction_control',\n",
       "       'road_type', 'light_conditions', 'accident_severity', 'cluster'],\n",
       "      dtype='object')"
      ]
     },
     "execution_count": 10,
     "metadata": {},
     "output_type": "execute_result"
    }
   ],
   "source": [
    "df2.columns"
   ]
  },
  {
   "cell_type": "code",
   "execution_count": 11,
   "metadata": {},
   "outputs": [],
   "source": [
    "#selecting predictors from the above features\n",
    "predictors = df2[['did_police_officer_attend_scene_of_accident' , 'age_of_driver' ,'vehicle_type', 'age_of_vehicle',\n",
    "                             'engine_capacity_cc','day_of_week' , 'road_type', 'weather_conditions', 'journey_purpose_of_driver',\n",
    "                             'sex_of_driver' ,'speed_limit','pedestrian_crossing_physical_facilities','junction_control','road_type','light_conditions','cluster']]"
   ]
  },
  {
   "cell_type": "code",
   "execution_count": 12,
   "metadata": {},
   "outputs": [],
   "source": [
    "#selecting X and y parameters\n",
    "X= predictors\n",
    "y=df2['accident_severity']"
   ]
  },
  {
   "cell_type": "code",
   "execution_count": 13,
   "metadata": {},
   "outputs": [],
   "source": [
    "# Split the data into a training and test set.\n",
    "X_train, X_test, y_train, y_test = train_test_split(predictors, \n",
    "                                              df2['accident_severity'],test_size=0.30, random_state=99)"
   ]
  },
  {
   "cell_type": "code",
   "execution_count": 14,
   "metadata": {},
   "outputs": [
    {
     "name": "stdout",
     "output_type": "stream",
     "text": [
      "(74856, 18)\n",
      "(32082, 18)\n",
      "(74856,)\n",
      "(32082,)\n"
     ]
    }
   ],
   "source": [
    "print(X_train.shape)\n",
    "print(X_test.shape)\n",
    "print(y_train.shape)\n",
    "print(y_test.shape)"
   ]
  },
  {
   "cell_type": "code",
   "execution_count": 15,
   "metadata": {},
   "outputs": [
    {
     "data": {
      "text/plain": [
       "2    92497\n",
       "1    13950\n",
       "0      491\n",
       "Name: accident_severity, dtype: int64"
      ]
     },
     "execution_count": 15,
     "metadata": {},
     "output_type": "execute_result"
    }
   ],
   "source": [
    "#imbalanced dataset\n",
    "df2['accident_severity'].value_counts()"
   ]
  },
  {
   "cell_type": "markdown",
   "metadata": {},
   "source": [
    "# Imbalanced Dataset"
   ]
  },
  {
   "cell_type": "markdown",
   "metadata": {},
   "source": [
    "## Random Forest "
   ]
  },
  {
   "cell_type": "code",
   "execution_count": 16,
   "metadata": {},
   "outputs": [
    {
     "name": "stdout",
     "output_type": "stream",
     "text": [
      "Accuracy 85.17\n",
      "              precision    recall  f1-score   support\n",
      "\n",
      "           0   0.000000  0.000000  0.000000       173\n",
      "           1   0.141361  0.019448  0.034192      4165\n",
      "           2   0.864940  0.981942  0.919735     27744\n",
      "\n",
      "    accuracy                       0.851693     32082\n",
      "   macro avg   0.335434  0.333797  0.317975     32082\n",
      "weighted avg   0.766338  0.851693  0.799811     32082\n",
      "\n"
     ]
    },
    {
     "data": {
      "text/html": [
       "<div>\n",
       "<style scoped>\n",
       "    .dataframe tbody tr th:only-of-type {\n",
       "        vertical-align: middle;\n",
       "    }\n",
       "\n",
       "    .dataframe tbody tr th {\n",
       "        vertical-align: top;\n",
       "    }\n",
       "\n",
       "    .dataframe thead th {\n",
       "        text-align: right;\n",
       "    }\n",
       "</style>\n",
       "<table border=\"1\" class=\"dataframe\">\n",
       "  <thead>\n",
       "    <tr style=\"text-align: right;\">\n",
       "      <th>Predicted</th>\n",
       "      <th>0</th>\n",
       "      <th>1</th>\n",
       "      <th>2</th>\n",
       "      <th>All</th>\n",
       "    </tr>\n",
       "    <tr>\n",
       "      <th>Actual</th>\n",
       "      <th></th>\n",
       "      <th></th>\n",
       "      <th></th>\n",
       "      <th></th>\n",
       "    </tr>\n",
       "  </thead>\n",
       "  <tbody>\n",
       "    <tr>\n",
       "      <th>0</th>\n",
       "      <td>0</td>\n",
       "      <td>2</td>\n",
       "      <td>171</td>\n",
       "      <td>173</td>\n",
       "    </tr>\n",
       "    <tr>\n",
       "      <th>1</th>\n",
       "      <td>1</td>\n",
       "      <td>81</td>\n",
       "      <td>4083</td>\n",
       "      <td>4165</td>\n",
       "    </tr>\n",
       "    <tr>\n",
       "      <th>2</th>\n",
       "      <td>11</td>\n",
       "      <td>490</td>\n",
       "      <td>27243</td>\n",
       "      <td>27744</td>\n",
       "    </tr>\n",
       "    <tr>\n",
       "      <th>All</th>\n",
       "      <td>12</td>\n",
       "      <td>573</td>\n",
       "      <td>31497</td>\n",
       "      <td>32082</td>\n",
       "    </tr>\n",
       "  </tbody>\n",
       "</table>\n",
       "</div>"
      ],
      "text/plain": [
       "Predicted   0    1      2    All\n",
       "Actual                          \n",
       "0           0    2    171    173\n",
       "1           1   81   4083   4165\n",
       "2          11  490  27243  27744\n",
       "All        12  573  31497  32082"
      ]
     },
     "execution_count": 16,
     "metadata": {},
     "output_type": "execute_result"
    }
   ],
   "source": [
    "#define the random forest model\n",
    "random_forest = RandomForestClassifier(n_estimators=200)\n",
    "#fit the model on the train data\n",
    "random_forest.fit(X_train,y_train)\n",
    "Y_pred = random_forest.predict(X_test)\n",
    "random_forest.score(X_test, y_test)\n",
    "acc_random_forest1 = round(random_forest.score(X_test, y_test) * 100, 2)\n",
    "\n",
    "sk_report = classification_report(\n",
    "    digits=6,\n",
    "    y_true=y_test, \n",
    "    y_pred=Y_pred)\n",
    "print(\"Accuracy\" , acc_random_forest1)\n",
    "print(sk_report)\n",
    "#confusion matrix\n",
    "pd.crosstab(y_test, Y_pred, rownames=['Actual'], colnames=['Predicted'], margins=True)"
   ]
  },
  {
   "cell_type": "code",
   "execution_count": 17,
   "metadata": {},
   "outputs": [
    {
     "data": {
      "text/plain": [
       "<sklearn.metrics._plot.confusion_matrix.ConfusionMatrixDisplay at 0x7fe6327294f0>"
      ]
     },
     "execution_count": 17,
     "metadata": {},
     "output_type": "execute_result"
    },
    {
     "data": {
      "image/png": "[encoded data removed]",
      "text/plain": [
       "<Figure size 432x288 with 2 Axes>"
      ]
     },
     "metadata": {},
     "output_type": "display_data"
    }
   ],
   "source": [
    "from sklearn.metrics import plot_confusion_matrix\n",
    "#plot confusion matrix\n",
    "sns.set(font_scale=1.4)\n",
    "class_sentiment =['Fatal', 'Serious','Slight']\n",
    "plot_confusion_matrix(random_forest,X_test,y_test, normalize =None, values_format='.0f',display_labels =class_sentiment)"
   ]
  },
  {
   "cell_type": "markdown",
   "metadata": {},
   "source": [
    "## Logistic Regression"
   ]
  },
  {
   "cell_type": "code",
   "execution_count": 20,
   "metadata": {},
   "outputs": [
    {
     "name": "stdout",
     "output_type": "stream",
     "text": [
      "Accuracy 86.48\n",
      "              precision    recall  f1-score   support\n",
      "\n",
      "           0   0.000000  0.000000  0.000000       173\n",
      "           1   0.000000  0.000000  0.000000      4165\n",
      "           2   0.864784  1.000000  0.927490     27744\n",
      "\n",
      "    accuracy                       0.864784     32082\n",
      "   macro avg   0.288261  0.333333  0.309163     32082\n",
      "weighted avg   0.747851  0.864784  0.802078     32082\n",
      "\n"
     ]
    }
   ],
   "source": [
    "#define the logistic regression model\n",
    "lr = LogisticRegression()\n",
    "# Fit the model on the training data.\n",
    "lr.fit(X_train, y_train)\n",
    "y_pred = lr.predict(X_test)\n",
    "sk_report = classification_report(\n",
    "    digits=6,\n",
    "    y_true=y_test, \n",
    "    y_pred=y_pred)\n",
    "print(\"Accuracy\", round(accuracy_score(y_pred, y_test)*100,2))\n",
    "print(sk_report)"
   ]
  },
  {
   "cell_type": "code",
   "execution_count": 21,
   "metadata": {},
   "outputs": [
    {
     "data": {
      "text/plain": [
       "<sklearn.metrics._plot.confusion_matrix.ConfusionMatrixDisplay at 0x7fe632ab3370>"
      ]
     },
     "execution_count": 21,
     "metadata": {},
     "output_type": "execute_result"
    },
    {
     "data": {
      "image/png": "[encoded data removed]",
      "text/plain": [
       "<Figure size 432x288 with 2 Axes>"
      ]
     },
     "metadata": {},
     "output_type": "display_data"
    }
   ],
   "source": [
    "#plot confusion matrix\n",
    "sns.set(font_scale=1.4)\n",
    "class_sentiment =['Fatal', 'Serious','Slight']\n",
    "plot_confusion_matrix(lr,X_test,y_test, normalize =None, values_format='.0f',display_labels =class_sentiment)"
   ]
  },
  {
   "cell_type": "markdown",
   "metadata": {},
   "source": [
    "## K Nearest Neigbors"
   ]
  },
  {
   "cell_type": "code",
   "execution_count": 22,
   "metadata": {},
   "outputs": [
    {
     "name": "stdout",
     "output_type": "stream",
     "text": [
      "              precision    recall  f1-score   support\n",
      "\n",
      "           0       0.00      0.00      0.00       173\n",
      "           1       0.14      0.03      0.04      4165\n",
      "           2       0.87      0.98      0.92     27744\n",
      "\n",
      "    accuracy                           0.85     32082\n",
      "   macro avg       0.34      0.33      0.32     32082\n",
      "weighted avg       0.77      0.85      0.80     32082\n",
      "\n",
      "Accuracy of KNeighbors Classifier: 0.8479209525590674\n"
     ]
    }
   ],
   "source": [
    "KNeighbors_classifier = KNeighborsClassifier()                       \n",
    "KNeighbors=KNeighbors_classifier.fit(X_train,y_train)                               \n",
    "kn_preds = KNeighbors.predict(X_test)\n",
    "\n",
    "test_report_kn = classification_report(y_test, kn_preds)\n",
    "# print the performace measures\n",
    "print(test_report_kn)\n",
    "print(\"Accuracy of KNeighbors Classifier:\", metrics.accuracy_score(y_test, kn_preds))"
   ]
  },
  {
   "cell_type": "code",
   "execution_count": 23,
   "metadata": {},
   "outputs": [
    {
     "data": {
      "text/plain": [
       "<sklearn.metrics._plot.confusion_matrix.ConfusionMatrixDisplay at 0x7fe632ab3760>"
      ]
     },
     "execution_count": 23,
     "metadata": {},
     "output_type": "execute_result"
    },
    {
     "data": {
      "image/png": "[encoded data removed]",
      "text/plain": [
       "<Figure size 432x288 with 2 Axes>"
      ]
     },
     "metadata": {},
     "output_type": "display_data"
    }
   ],
   "source": [
    "#plot confusion matrix\n",
    "sns.set(font_scale=1.4)\n",
    "class_sentiment =['Fatal', 'Serious','Slight']\n",
    "plot_confusion_matrix(KNeighbors_classifier,X_test,y_test, normalize =None, values_format='.0f',display_labels =class_sentiment)"
   ]
  },
  {
   "cell_type": "markdown",
   "metadata": {},
   "source": [
    "# SMOTE Oversampling Techniques"
   ]
  },
  {
   "cell_type": "code",
   "execution_count": 25,
   "metadata": {},
   "outputs": [],
   "source": [
    "sm = SMOTE()\n",
    "\n",
    "X=np.array(X)\n",
    "\n",
    "X, y = sm.fit_resample(X, y.ravel())"
   ]
  },
  {
   "cell_type": "code",
   "execution_count": 26,
   "metadata": {},
   "outputs": [],
   "source": [
    "# Oversampling\n",
    "sm = SMOTE(random_state=0)\n",
    "X, y = sm.fit_resample(X, y)\n",
    "## train test split\n",
    "X_train_over,X_test_over,y_train_over,y_test_over = train_test_split(X,y,test_size=0.3,random_state=42)\n",
    "#setting 20% aside as validation data for cross validation\n",
    "x_train_t, x_train_v, y_train_t, y_train_v = train_test_split(X_train_over, y_train_over, test_size = 0.3, random_state = 42)"
   ]
  },
  {
   "cell_type": "code",
   "execution_count": 27,
   "metadata": {},
   "outputs": [
    {
     "data": {
      "text/plain": [
       "2    92497\n",
       "1    92497\n",
       "0    92497\n",
       "dtype: int64"
      ]
     },
     "execution_count": 27,
     "metadata": {},
     "output_type": "execute_result"
    }
   ],
   "source": [
    "#check the oversampled result\n",
    "pd.Series(y).value_counts()"
   ]
  },
  {
   "cell_type": "code",
   "execution_count": 28,
   "metadata": {},
   "outputs": [
    {
     "data": {
      "text/plain": [
       "array([[ 0, 44,  2, ...,  0,  4, 31],\n",
       "       [ 0, 11,  2, ...,  3,  0,  4],\n",
       "       [ 0, 37,  2, ...,  3,  1, 43],\n",
       "       ...,\n",
       "       [ 0, 37,  2, ...,  3,  4, 19],\n",
       "       [ 0, 22,  2, ...,  0,  1,  0],\n",
       "       [ 0, 51,  3, ...,  3,  4, 44]], dtype=int16)"
      ]
     },
     "execution_count": 28,
     "metadata": {},
     "output_type": "execute_result"
    }
   ],
   "source": [
    "X_train_over"
   ]
  },
  {
   "cell_type": "markdown",
   "metadata": {},
   "source": [
    "## Random Forest after SMOTE"
   ]
  },
  {
   "cell_type": "code",
   "execution_count": 29,
   "metadata": {},
   "outputs": [
    {
     "name": "stdout",
     "output_type": "stream",
     "text": [
      "Accuracy 88.51\n",
      "              precision    recall  f1-score   support\n",
      "\n",
      "           0   0.974485  0.994919  0.984596     27946\n",
      "           1   0.831194  0.842064  0.836593     27834\n",
      "           2   0.846218  0.816951  0.831327     27468\n",
      "\n",
      "    accuracy                       0.885090     83248\n",
      "   macro avg   0.883965  0.884644  0.884172     83248\n",
      "weighted avg   0.884253  0.885090  0.884539     83248\n",
      "\n"
     ]
    },
    {
     "data": {
      "text/html": [
       "<div>\n",
       "<style scoped>\n",
       "    .dataframe tbody tr th:only-of-type {\n",
       "        vertical-align: middle;\n",
       "    }\n",
       "\n",
       "    .dataframe tbody tr th {\n",
       "        vertical-align: top;\n",
       "    }\n",
       "\n",
       "    .dataframe thead th {\n",
       "        text-align: right;\n",
       "    }\n",
       "</style>\n",
       "<table border=\"1\" class=\"dataframe\">\n",
       "  <thead>\n",
       "    <tr style=\"text-align: right;\">\n",
       "      <th>Predicted</th>\n",
       "      <th>0</th>\n",
       "      <th>1</th>\n",
       "      <th>2</th>\n",
       "      <th>All</th>\n",
       "    </tr>\n",
       "    <tr>\n",
       "      <th>Actual</th>\n",
       "      <th></th>\n",
       "      <th></th>\n",
       "      <th></th>\n",
       "      <th></th>\n",
       "    </tr>\n",
       "  </thead>\n",
       "  <tbody>\n",
       "    <tr>\n",
       "      <th>0</th>\n",
       "      <td>27804</td>\n",
       "      <td>77</td>\n",
       "      <td>65</td>\n",
       "      <td>27946</td>\n",
       "    </tr>\n",
       "    <tr>\n",
       "      <th>1</th>\n",
       "      <td>383</td>\n",
       "      <td>23438</td>\n",
       "      <td>4013</td>\n",
       "      <td>27834</td>\n",
       "    </tr>\n",
       "    <tr>\n",
       "      <th>2</th>\n",
       "      <td>345</td>\n",
       "      <td>4683</td>\n",
       "      <td>22440</td>\n",
       "      <td>27468</td>\n",
       "    </tr>\n",
       "    <tr>\n",
       "      <th>All</th>\n",
       "      <td>28532</td>\n",
       "      <td>28198</td>\n",
       "      <td>26518</td>\n",
       "      <td>83248</td>\n",
       "    </tr>\n",
       "  </tbody>\n",
       "</table>\n",
       "</div>"
      ],
      "text/plain": [
       "Predicted      0      1      2    All\n",
       "Actual                               \n",
       "0          27804     77     65  27946\n",
       "1            383  23438   4013  27834\n",
       "2            345   4683  22440  27468\n",
       "All        28532  28198  26518  83248"
      ]
     },
     "execution_count": 29,
     "metadata": {},
     "output_type": "execute_result"
    }
   ],
   "source": [
    "#define the model\n",
    "random_forest = RandomForestClassifier(n_estimators=200)\n",
    "#fit the model\n",
    "random_forest.fit(X_train_over,y_train_over)\n",
    "Y_pred = random_forest.predict(X_test_over)\n",
    "random_forest.score(X_test_over, y_test_over)\n",
    "acc_random_forest1 = round(random_forest.score(X_test_over, y_test_over) * 100, 2)\n",
    "\n",
    "sk_report = classification_report(\n",
    "    digits=6,\n",
    "    y_true=y_test_over, \n",
    "    y_pred=Y_pred)\n",
    "print(\"Accuracy\" , acc_random_forest1)\n",
    "print(sk_report)\n",
    "pd.crosstab(y_test_over, Y_pred, rownames=['Actual'], colnames=['Predicted'], margins=True)"
   ]
  },
  {
   "cell_type": "code",
   "execution_count": 30,
   "metadata": {},
   "outputs": [
    {
     "name": "stderr",
     "output_type": "stream",
     "text": [
      "No handles with labels found to put in legend.\n"
     ]
    },
    {
     "data": {
      "image/png": "[encoded data removed]",
      "text/plain": [
       "<Figure size 432x288 with 1 Axes>"
      ]
     },
     "metadata": {},
     "output_type": "display_data"
    }
   ],
   "source": [
    "feature_imp = pd.Series(random_forest.feature_importances_,index=predictors.columns).sort_values(ascending=False)\n",
    "# Creating a bar plot, displaying only the top k features\n",
    "k=13\n",
    "sns.barplot(x=feature_imp[:13], y=feature_imp.index[:k])\n",
    "# Add labels to your graph\n",
    "plt.xlabel('Feature Importance Score')\n",
    "plt.ylabel('Features')\n",
    "plt.title(\"Visualizing Important Features\")\n",
    "plt.legend()\n",
    "plt.show()"
   ]
  },
  {
   "cell_type": "markdown",
   "metadata": {},
   "source": [
    "## Logistic Regression after SMOTE"
   ]
  },
  {
   "cell_type": "code",
   "execution_count": 32,
   "metadata": {},
   "outputs": [
    {
     "name": "stdout",
     "output_type": "stream",
     "text": [
      "Accuracy 43.58\n",
      "              precision    recall  f1-score   support\n",
      "\n",
      "           0   0.459208  0.456201  0.457700     27946\n",
      "           1   0.389376  0.376841  0.383006     27834\n",
      "           2   0.456720  0.474661  0.465518     27468\n",
      "\n",
      "    accuracy                       0.435758     83248\n",
      "   macro avg   0.435101  0.435901  0.435408     83248\n",
      "weighted avg   0.435039  0.435758  0.435306     83248\n",
      "\n"
     ]
    },
    {
     "data": {
      "text/html": [
       "<div>\n",
       "<style scoped>\n",
       "    .dataframe tbody tr th:only-of-type {\n",
       "        vertical-align: middle;\n",
       "    }\n",
       "\n",
       "    .dataframe tbody tr th {\n",
       "        vertical-align: top;\n",
       "    }\n",
       "\n",
       "    .dataframe thead th {\n",
       "        text-align: right;\n",
       "    }\n",
       "</style>\n",
       "<table border=\"1\" class=\"dataframe\">\n",
       "  <thead>\n",
       "    <tr style=\"text-align: right;\">\n",
       "      <th>Predicted</th>\n",
       "      <th>0</th>\n",
       "      <th>1</th>\n",
       "      <th>2</th>\n",
       "      <th>All</th>\n",
       "    </tr>\n",
       "    <tr>\n",
       "      <th>Actual</th>\n",
       "      <th></th>\n",
       "      <th></th>\n",
       "      <th></th>\n",
       "      <th></th>\n",
       "    </tr>\n",
       "  </thead>\n",
       "  <tbody>\n",
       "    <tr>\n",
       "      <th>0</th>\n",
       "      <td>12749</td>\n",
       "      <td>8420</td>\n",
       "      <td>6777</td>\n",
       "      <td>27946</td>\n",
       "    </tr>\n",
       "    <tr>\n",
       "      <th>1</th>\n",
       "      <td>8613</td>\n",
       "      <td>10489</td>\n",
       "      <td>8732</td>\n",
       "      <td>27834</td>\n",
       "    </tr>\n",
       "    <tr>\n",
       "      <th>2</th>\n",
       "      <td>6401</td>\n",
       "      <td>8029</td>\n",
       "      <td>13038</td>\n",
       "      <td>27468</td>\n",
       "    </tr>\n",
       "    <tr>\n",
       "      <th>All</th>\n",
       "      <td>27763</td>\n",
       "      <td>26938</td>\n",
       "      <td>28547</td>\n",
       "      <td>83248</td>\n",
       "    </tr>\n",
       "  </tbody>\n",
       "</table>\n",
       "</div>"
      ],
      "text/plain": [
       "Predicted      0      1      2    All\n",
       "Actual                               \n",
       "0          12749   8420   6777  27946\n",
       "1           8613  10489   8732  27834\n",
       "2           6401   8029  13038  27468\n",
       "All        27763  26938  28547  83248"
      ]
     },
     "execution_count": 32,
     "metadata": {},
     "output_type": "execute_result"
    }
   ],
   "source": [
    "#define the model\n",
    "lr = LogisticRegression()\n",
    "# Fit the model on the training data.\n",
    "lr.fit(X_train_over, y_train_over)\n",
    "y_pred = lr.predict(X_test_over)\n",
    "sk_report = classification_report(\n",
    "    digits=6,\n",
    "    y_true=y_test_over, \n",
    "    y_pred=y_pred)\n",
    "print(\"Accuracy\", round(accuracy_score(y_pred, y_test_over)*100,2))\n",
    "print(sk_report)\n",
    "pd.crosstab(y_test_over, y_pred, rownames=['Actual'], colnames=['Predicted'], margins=True)"
   ]
  },
  {
   "cell_type": "code",
   "execution_count": 33,
   "metadata": {},
   "outputs": [
    {
     "name": "stdout",
     "output_type": "stream",
     "text": [
      "              precision    recall  f1-score   support\n",
      "\n",
      "           0       0.90      1.00      0.95     27946\n",
      "           1       0.71      0.92      0.80     27834\n",
      "           2       0.91      0.55      0.68     27468\n",
      "\n",
      "    accuracy                           0.82     83248\n",
      "   macro avg       0.84      0.82      0.81     83248\n",
      "weighted avg       0.84      0.82      0.81     83248\n",
      "\n",
      "Accuracy of KNeighbors Classifier: 0.8218816067653277\n"
     ]
    }
   ],
   "source": [
    "KNeighbors_classifier = KNeighborsClassifier()   \n",
    "KNeighbors=KNeighbors_classifier.fit(X_train_over,y_train_over)                     \n",
    "kn_preds = KNeighbors.predict(X_test_over)\n",
    "test_report_kn = classification_report(y_test_over, kn_preds)\n",
    "# print the performace measures\n",
    "print(test_report_kn)\n",
    "\n",
    "print(\"Accuracy of KNeighbors Classifier:\", metrics.accuracy_score(y_test_over, kn_preds))"
   ]
  }
 ],
 "metadata": {
  "kernelspec": {
   "display_name": "Python 3.9.7 ('base')",
   "language": "python",
   "name": "python3"
  },
  "language_info": {
   "codemirror_mode": {
    "name": "ipython",
    "version": 3
   },
   "file_extension": ".py",
   "mimetype": "text/x-python",
   "name": "python",
   "nbconvert_exporter": "python",
   "pygments_lexer": "ipython3",
   "version": "3.9.7"
  },
  "orig_nbformat": 4,
  "vscode": {
   "interpreter": {
    "hash": "d141088e5c7de3483f7caf51d2d849fc52ac23491dde3bc8ef19849ba73242da"
   }
  }
 },
 "nbformat": 4,
 "nbformat_minor": 2
}
